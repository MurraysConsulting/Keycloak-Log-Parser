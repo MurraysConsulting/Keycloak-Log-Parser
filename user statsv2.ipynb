{
 "cells": [
  {
   "cell_type": "code",
   "execution_count": 77,
   "metadata": {},
   "outputs": [],
   "source": [
    "#import support\n",
    "import pandas as fu\n",
    "import os\n",
    "import glob\n",
    "from datetime import datetime as dt\n",
    "import json"
   ]
  },
  {
   "cell_type": "markdown",
   "metadata": {},
   "source": [
    "Data for Subhub/MISP Keycloak data\n",
    "\n",
    "type: str,\n",
    "clientId: str,\n",
    "userId: str,\n",
    "ipAddress: str,\n",
    "identity_provider_identity: str,\n",
    "username: str,\n",
    "loginDate: datetime\n",
    "\n",
    "userId: str,\n",
    "username: str,\n",
    "org: str,\n",
    "countSubhub: [ (day, #login), (day, #login)]\n",
    "\n",
    "\n"
   ]
  },
  {
   "cell_type": "code",
   "execution_count": 78,
   "metadata": {},
   "outputs": [],
   "source": [
    "# sets the folder path to collect log data.\n",
    "path1 = os.getcwd()\n",
    "path2 = path1 + \"\\\\Data\\\\\"\n",
    "\n",
    "#sets the raw imports.\n",
    "data_list = glob.glob(os.path.join(path2, \"*keycloak*.json\"))"
   ]
  },
  {
   "cell_type": "code",
   "execution_count": 79,
   "metadata": {},
   "outputs": [
    {
     "name": "stdout",
     "output_type": "stream",
     "text": [
      "List of imported files:\n",
      "0 :  (block) 20250118-20250512_keycloaklogs_114days.json\n",
      "1 :  (block) 20250118-20250519_keycloaklogs_121days.json\n",
      "2 :  20241213-20250313_keycloaklogs_30days_OPTION2.json\n",
      "3 :  2024_12_18-2025-01_17_60days-90days_keycloaklogs.json\n",
      "4 :  20250321-20250328_keycloaklogs_7days.json\n",
      "5 :  20250328-20250404_keycloaklogs_7days.json\n",
      "6 :  20250404-20250411_keycloaklogs_7days.json\n",
      "7 :  20250411-20250418_keycloaklogs_full-log-groups_7days.json\n",
      "8 :  20250418-20250425_keycloaklogs_7days.json\n",
      "9 :  20250425-20250502_keycloaklogs_7days.json\n",
      "10 :  2025_01_17-2025-02_16_30days-60days_keycloaklogs.json\n",
      "11 :  2025_02_16-2025-03_18_0days-30days_keycloaklogs.json\n"
     ]
    }
   ],
   "source": [
    "print('List of imported files:')\n",
    "count = 0\n",
    "for data in data_list:\n",
    "    print(count, ': ', data.split('\\\\')[-1])\n",
    "    count+=1"
   ]
  },
  {
   "cell_type": "code",
   "execution_count": 80,
   "metadata": {},
   "outputs": [
    {
     "name": "stdout",
     "output_type": "stream",
     "text": [
      "Total entries: 111205\n"
     ]
    }
   ],
   "source": [
    "# open files\n",
    "\n",
    "content = []\n",
    "for data in data_list:\n",
    "    try:\n",
    "        with open(data) as f:\n",
    "            content.extend(json.load(f))\n",
    "    except:\n",
    "        #Prints which file failed to open, as well as gives you a location to go test why the json load possibly failed.\n",
    "        print (\"Failed: \" + data)\n",
    "        print (\"Go to https://jsonlint.com/ to fix the error\")\n",
    "\n",
    "#Displays the total number of objects to be processed.\n",
    "print(\"Total entries: \" + str(len(content)))"
   ]
  },
  {
   "cell_type": "code",
   "execution_count": 81,
   "metadata": {},
   "outputs": [
    {
     "name": "stdout",
     "output_type": "stream",
     "text": [
      "{'_section': 'MISP Logins'}\n",
      "{'_section': 'OpenSearch Logins'}\n",
      "{'_section': 'MISP Logins'}\n",
      "{'_section': 'OpenSearch Logins'}\n"
     ]
    }
   ],
   "source": [
    "for entry in content:\n",
    "    try:\n",
    "        if '@message' in entry:\n",
    "            pass\n",
    "        else:\n",
    "            print(entry)\n",
    "    except:\n",
    "        print('failed')\n"
   ]
  },
  {
   "cell_type": "code",
   "execution_count": 82,
   "metadata": {},
   "outputs": [],
   "source": [
    "    \n",
    "log_db = []\n",
    "count = 0\n",
    "tempDate = str\n",
    "tempTime = str\n",
    "logKeys = ['type', 'clientId', 'userId', 'username', 'identity_provider_identity']\n",
    "\n",
    "idstore = []\n",
    "\n",
    "\n",
    "for entry in content:\n",
    "\n",
    "    tempLog = {}\n",
    "\n",
    "    try:\n",
    "\n",
    "        if '@message' in entry:\n",
    "\n",
    "            tempLog['id'] = entry['@message']['json']['time']\n",
    "\n",
    "            logitem = entry['@message']['json']['log'].split(',')\n",
    "\n",
    "            tempDate, tempTime = entry['@message']['json']['time'].split('T')\n",
    "\n",
    "            tempLog['year'] = int(tempDate.split('-')[0]) \n",
    "            tempLog['month'] = int(tempDate.split('-')[1])\n",
    "            tempLog['day'] = int(tempDate.split('-')[2])        \n",
    "            tempLog['time'] = tempTime.split('Z')[0]\n",
    "\n",
    "            for item in logitem:\n",
    "                if '=' not in item:\n",
    "                    pass\n",
    "                else:\n",
    "                    item = item.split('=')\n",
    "                    item[0] = item[0].split(' ')[-1]\n",
    "                    if item[0] in logKeys:\n",
    "                        tempLog[item[0]]= item[1]\n",
    "            if 'type' in tempLog.keys():\n",
    "                if tempLog['id'] not in idstore:\n",
    "                    idstore.append(tempLog['id'])\n",
    "                    log_db.append(tempLog)\n",
    "    except:\n",
    "       # print(str(count) + '. Failed entry: ' + entry['@message'])\n",
    "       pass\n",
    "    count += 1\n"
   ]
  },
  {
   "cell_type": "code",
   "execution_count": 83,
   "metadata": {},
   "outputs": [],
   "source": [
    "for item in log_db:\n",
    "    #print(item)\n",
    "    break"
   ]
  },
  {
   "cell_type": "code",
   "execution_count": 84,
   "metadata": {},
   "outputs": [],
   "source": [
    "for log in log_db:\n",
    "    for key in log:\n",
    "        if key == 'clientId':\n",
    "            if 'https' in log[key]:\n",
    "                log[key] = 'metadata'\n",
    "                #print(log[key])"
   ]
  },
  {
   "cell_type": "code",
   "execution_count": 85,
   "metadata": {},
   "outputs": [],
   "source": [
    "userdataloc = glob.glob(os.path.join(path2, \"response*.json\"))\n",
    "userList = []\n",
    "\n",
    "\n",
    "try:\n",
    "    with open(userdataloc[0], \"r\") as f:\n",
    "        userList = json.load(f)\n",
    "        #for line in f:\n",
    "         #   line = line.strip('\\n')\n",
    "          #  if count == 0:\n",
    "           #     userKey = line.split(',')\n",
    "            #    count += 1\n",
    "            #else:\n",
    "             #   userList.append(dict(zip(userKey, line.split(','))))\n",
    "                #print(userList[count-1])\n",
    "              #  count+=1\n",
    "            #userList.append(line)\n",
    "            #print(line)\n",
    "except:\n",
    "    print('failed')\n",
    "\n",
    "#print(userList)"
   ]
  },
  {
   "cell_type": "code",
   "execution_count": 86,
   "metadata": {},
   "outputs": [],
   "source": [
    "userdataloc = glob.glob(os.path.join(path2, \"*.csv\"))\n"
   ]
  },
  {
   "cell_type": "code",
   "execution_count": 87,
   "metadata": {},
   "outputs": [],
   "source": [
    "userOrgList = []\n",
    "\n",
    "try:\n",
    "    count = 0\n",
    "    with open(userdataloc[0], 'r') as f:\n",
    "        for line in f:\n",
    "            line = line.strip('\\n')\n",
    "            line = line.rstrip('\"')\n",
    "            line = line.lstrip('\"')\n",
    "            #print(line)\n",
    "            if count == 0:\n",
    "                line = line.split('\",\"')\n",
    "                userKey = line\n",
    "                #print(userKey)\n",
    "                count += 1\n",
    "            else:\n",
    "                line = line.split('\",\"')\n",
    "                userOrgList.append(dict(zip(userKey, line)))\n",
    "                #print(userOrgList[count-1])\n",
    "                count+=1\n",
    "        \n",
    "except:\n",
    "    pass\n",
    "\n",
    "#print(userOrgList)"
   ]
  },
  {
   "cell_type": "code",
   "execution_count": 88,
   "metadata": {},
   "outputs": [],
   "source": [
    "#print(userList[0])\n",
    "userList2 = []\n",
    "for n in userList['data']['Users']:\n",
    "    #print(n)\n",
    "    userList2.append(n)\n",
    "\n",
    "#print(userList2)    \n",
    "#for u in userList2:\n",
    "    #print(u['id'] + ', ' + u['email'])\n",
    "    "
   ]
  },
  {
   "cell_type": "code",
   "execution_count": 89,
   "metadata": {},
   "outputs": [],
   "source": [
    "missingUser = \"\"\n",
    "for user in userList2:\n",
    "    orgFlag = False\n",
    "    for org in userOrgList:\n",
    "        if user['email'] == org['Email']:\n",
    "            user['org'] = org['RK-Organization']\n",
    "            txt = user['username']\n",
    "            #print(f'Username: {txt}')\n",
    "            orgFlag = True\n",
    "    if orgFlag == False:\n",
    "        #print(user['username'])\n",
    "        txt = user['username']\n",
    "        missingUser = missingUser + txt + ', '\n",
    "\n",
    "missingUser = missingUser.rstrip(', ')\n",
    "missingUser = missingUser.split(', ')"
   ]
  },
  {
   "cell_type": "code",
   "execution_count": 90,
   "metadata": {},
   "outputs": [],
   "source": [
    "#Used to track the users that are in the RK system user list but not the RKR Jira user list.  This will identify potentially the developers if done correctly.\n",
    "count = 1\n",
    "\n",
    "for user in missingUser:\n",
    "    #print(str(count)+ ': ' + user)\n",
    "    count+=1\n",
    "\n",
    "#print(len(missingUser.split(',')))\n"
   ]
  },
  {
   "cell_type": "code",
   "execution_count": 91,
   "metadata": {},
   "outputs": [],
   "source": [
    "missingOrg = ''\n",
    "txt = ''\n",
    "for org in userOrgList:\n",
    "    userFlag = False\n",
    "    for user in userList2:\n",
    "        if org['Email'] == user['email']:\n",
    "            userFlag = True\n",
    "            #print \n",
    "            pass\n",
    "    if userFlag == False:\n",
    "        txt = org['Email']\n",
    "        missingOrg = missingOrg + txt + ', '\n",
    "\n",
    "missingOrg = missingOrg.rstrip(', ')\n",
    "missingOrg = missingOrg.split(', ')\n",
    "\n"
   ]
  },
  {
   "cell_type": "code",
   "execution_count": 92,
   "metadata": {},
   "outputs": [],
   "source": [
    "#used to track the users that are in the RKR jira list but not in the RK system user list\n",
    "count = 1\n",
    "for user in missingOrg:\n",
    "    #print(str(count) +': '+user)\n",
    "    count+=1\n",
    "\n",
    "#print(len(missingOrg.split(',')))"
   ]
  },
  {
   "cell_type": "code",
   "execution_count": 93,
   "metadata": {},
   "outputs": [
    {
     "name": "stdout",
     "output_type": "stream",
     "text": [
      "112\n"
     ]
    }
   ],
   "source": [
    "UserInfo = []\n",
    "tempUser = {}\n",
    "\n",
    "#UserInfo = [{'userId': 'f670759e-2af0-4114-977b-b3be9182e882', 'username': 'johnathon.murray.ctr'}]\n",
    "\n",
    "for log in log_db:\n",
    "    if 'userId' and 'username' in log.keys():\n",
    "        tempUser = {'userId': log['userId'], 'username': log['username']}\n",
    "    if tempUser in UserInfo:\n",
    "        pass\n",
    "    else:\n",
    "        #print(tempUser)\n",
    "        UserInfo.append(tempUser)\n",
    "\n",
    "try:\n",
    "    UserInfo.remove({})\n",
    "except:\n",
    "    pass\n",
    "\n",
    "print(len(UserInfo))"
   ]
  },
  {
   "cell_type": "code",
   "execution_count": 95,
   "metadata": {},
   "outputs": [],
   "source": [
    "\n",
    "#for user in UserInfo:\n",
    "    #print(user['username'])\n",
    "\n",
    "#print(len(UserInfo))"
   ]
  },
  {
   "cell_type": "code",
   "execution_count": 96,
   "metadata": {},
   "outputs": [],
   "source": [
    "count = 0\n",
    "for log in log_db:\n",
    "    if 'username' not in log.keys():\n",
    "        for user in UserInfo:\n",
    "            if user['userId'] == log['userId']:\n",
    "                log_db[count]['username'] = user['username']\n",
    "                \n",
    "    count+=1"
   ]
  },
  {
   "cell_type": "code",
   "execution_count": 97,
   "metadata": {},
   "outputs": [],
   "source": [
    "count = 0\n",
    "for log in log_db:\n",
    "    for user in userList2:\n",
    "        if user[\"id\"] == log['userId']:\n",
    "            #print(user['Gov Organization'])\n",
    "            log_db[count]['RK-Org'] = user['attributes']['gov-organization']\n",
    "            if user['username'] not in missingUser:\n",
    "                #sets the org to what has been defined as the users owning org per the Request for acount ticket.\n",
    "                log_db[count]['org'] = user['org']\n",
    "            else:\n",
    "                #sets org to vendor that is developing/maintaining the system.  Backend user accounts.\n",
    "                log_db[count]['org'] = 'BAH' \n",
    "    count +=1\n"
   ]
  },
  {
   "cell_type": "code",
   "execution_count": 98,
   "metadata": {},
   "outputs": [],
   "source": [
    "#I don't remember the purpose of this code, will need to research.\n",
    "\n",
    "columnsList = []\n",
    "count = 0\n",
    "\n",
    "for item in log_db:\n",
    "    #print(item.keys())\n",
    "    #if 'type' in item.keys():\n",
    "        #print(item['type'])\n",
    "    for k in item.keys():\n",
    "        if k in columnsList:\n",
    "            pass\n",
    "        else:\n",
    "            columnsList.append(k)"
   ]
  },
  {
   "cell_type": "code",
   "execution_count": 99,
   "metadata": {},
   "outputs": [],
   "source": [
    "df_loginfo = fu.DataFrame(log_db)\n",
    "\n",
    "#print(df_loginfo)"
   ]
  },
  {
   "cell_type": "code",
   "execution_count": 100,
   "metadata": {},
   "outputs": [
    {
     "name": "stdout",
     "output_type": "stream",
     "text": [
      "20250523_UserInfo.xlsx\n"
     ]
    }
   ],
   "source": [
    "\n",
    "file_output = dt.now()\n",
    "\n",
    "file_output = file_output.strftime('%Y%m%d') + '_UserInfo.xlsx'\n",
    "\n",
    "print(file_output)\n"
   ]
  },
  {
   "cell_type": "code",
   "execution_count": 76,
   "metadata": {},
   "outputs": [],
   "source": [
    "df_loginfo.to_excel(file_output, sheet_name= 'logs', index=False)"
   ]
  },
  {
   "cell_type": "code",
   "execution_count": null,
   "metadata": {},
   "outputs": [],
   "source": []
  }
 ],
 "metadata": {
  "kernelspec": {
   "display_name": "base",
   "language": "python",
   "name": "python3"
  },
  "language_info": {
   "codemirror_mode": {
    "name": "ipython",
    "version": 3
   },
   "file_extension": ".py",
   "mimetype": "text/x-python",
   "name": "python",
   "nbconvert_exporter": "python",
   "pygments_lexer": "ipython3",
   "version": "3.12.7"
  }
 },
 "nbformat": 4,
 "nbformat_minor": 2
}
